{
  "nbformat": 4,
  "nbformat_minor": 0,
  "metadata": {
    "colab": {
      "provenance": []
    },
    "kernelspec": {
      "name": "python3",
      "display_name": "Python 3"
    },
    "language_info": {
      "name": "python"
    }
  },
  "cells": [
    {
      "cell_type": "code",
      "source": [
        "!pip install gymnasium"
      ],
      "metadata": {
        "colab": {
          "base_uri": "https://localhost:8080/"
        },
        "id": "_QNwx0AoyZWJ",
        "outputId": "2b889d7f-bcc8-4a22-cbf7-7acbdf2cc0ed"
      },
      "execution_count": null,
      "outputs": [
        {
          "output_type": "stream",
          "name": "stdout",
          "text": [
            "Looking in indexes: https://pypi.org/simple, https://us-python.pkg.dev/colab-wheels/public/simple/\n",
            "Collecting gymnasium\n",
            "  Downloading gymnasium-0.28.1-py3-none-any.whl (925 kB)\n",
            "\u001b[2K     \u001b[90m━━━━━━━━━━━━━━━━━━━━━━━━━━━━━━━━━━━━━━\u001b[0m \u001b[32m925.5/925.5 KB\u001b[0m \u001b[31m41.9 MB/s\u001b[0m eta \u001b[36m0:00:00\u001b[0m\n",
            "\u001b[?25hCollecting farama-notifications>=0.0.1\n",
            "  Downloading Farama_Notifications-0.0.4-py3-none-any.whl (2.5 kB)\n",
            "Requirement already satisfied: typing-extensions>=4.3.0 in /usr/local/lib/python3.9/dist-packages (from gymnasium) (4.5.0)\n",
            "Collecting jax-jumpy>=1.0.0\n",
            "  Downloading jax_jumpy-1.0.0-py3-none-any.whl (20 kB)\n",
            "Requirement already satisfied: numpy>=1.21.0 in /usr/local/lib/python3.9/dist-packages (from gymnasium) (1.22.4)\n",
            "Requirement already satisfied: importlib-metadata>=4.8.0 in /usr/local/lib/python3.9/dist-packages (from gymnasium) (6.1.0)\n",
            "Requirement already satisfied: cloudpickle>=1.2.0 in /usr/local/lib/python3.9/dist-packages (from gymnasium) (2.2.1)\n",
            "Requirement already satisfied: zipp>=0.5 in /usr/local/lib/python3.9/dist-packages (from importlib-metadata>=4.8.0->gymnasium) (3.15.0)\n",
            "Installing collected packages: farama-notifications, jax-jumpy, gymnasium\n",
            "Successfully installed farama-notifications-0.0.4 gymnasium-0.28.1 jax-jumpy-1.0.0\n"
          ]
        }
      ]
    },
    {
      "cell_type": "code",
      "source": [
        "import numpy as np\n",
        "import pandas as pd\n",
        "import gymnasium as gym"
      ],
      "metadata": {
        "id": "CTEz8jnxyTBx"
      },
      "execution_count": null,
      "outputs": []
    },
    {
      "cell_type": "markdown",
      "source": [
        "# SCIMAI implementation (our inspiration)"
      ],
      "metadata": {
        "id": "luZGNm5yE78-"
      }
    },
    {
      "cell_type": "markdown",
      "source": [
        "One way to do this would be to include the current storage level as part of the state representation that the agent observes. For example, you might include a variable that tracks the number of units currently stored in the environment.\n",
        "\n",
        "Next, you would need to modify the reward function of the environment to penalize the agent for exceeding the maximum storage capacity. For example, you might subtract a certain amount from the reward for each additional unit produced or stored beyond the capacity limit."
      ],
      "metadata": {
        "id": "fjshs9blWGfD"
      }
    },
    {
      "cell_type": "code",
      "execution_count": null,
      "metadata": {
        "id": "2LVOAZI7pJaB"
      },
      "outputs": [],
      "source": [
        "class State:\n",
        "    \"\"\"\n",
        "    We choose the state vector to include all current stock levels for each \n",
        "    warehouse and product type, plus the last demand values.\n",
        "    \"\"\"\n",
        "\n",
        "    def __init__(self, product_types_num, distr_warehouses_num, T,\n",
        "                 demand_history, t=0): #T is the number of time steps, t is the current timestep\n",
        "        '''All factory stocks and distr. warehouses stock are set to 0'''\n",
        "        self.product_types_num = product_types_num\n",
        "        self.factory_stocks = np.zeros(\n",
        "            (self.product_types_num,),\n",
        "            dtype=np.int32)\n",
        "        self.distr_warehouses_num = distr_warehouses_num\n",
        "        self.distr_warehouses_stocks = np.zeros(\n",
        "            (self.distr_warehouses_num, self.product_types_num),\n",
        "            dtype=np.int32) # This array represents the stock levels at each distributed warehouse for each product type\n",
        "        self.T = T\n",
        "        self.demand_history = demand_history # A list of lists of demand values for each warehouse and product type\n",
        "        self.t = t\n",
        "\n",
        "    def to_array(self): \n",
        "        '''\n",
        "        returns a flattened array of the state values. returns a flattened numpy array containing\n",
        "        the current stock levels for each warehouse and product type, as well as the last demand values, and the current time step.\n",
        "        '''\n",
        "        return np.concatenate((\n",
        "            self.factory_stocks,\n",
        "            self.distr_warehouses_stocks.flatten(),\n",
        "            np.hstack(list(chain(*chain(*self.demand_history)))),\n",
        "            [self.t]))\n",
        "\n",
        "    def stock_levels(self): #returns an array of the current stock levels for each warehouse and product type\n",
        "        return np.concatenate((\n",
        "            self.factory_stocks,\n",
        "            self.distr_warehouses_stocks.flatten()))"
      ]
    },
    {
      "cell_type": "code",
      "execution_count": null,
      "metadata": {
        "gather": {
          "logged": 1633592879156
        },
        "hideCode": true,
        "hidePrompt": true,
        "id": "3vmjf1wf6J6q"
      },
      "outputs": [],
      "source": [
        "class Action:\n",
        "    \"\"\"\n",
        "    The action vector consists of production and shipping controls.\n",
        "    \"\"\"\n",
        "\n",
        "    def __init__(self, product_types_num, distr_warehouses_num):\n",
        "        self.production_level = np.zeros(\n",
        "            (product_types_num,),\n",
        "            dtype=np.int32)\n",
        "        self.shipped_stocks = np.zeros(\n",
        "            (distr_warehouses_num, product_types_num),\n",
        "            dtype=np.int32)"
      ]
    },
    {
      "cell_type": "code",
      "execution_count": null,
      "metadata": {
        "id": "Y6z3hOGrpWFn"
      },
      "outputs": [],
      "source": [
        "class SupplyChainEnvironment:\n",
        "    \"\"\"\n",
        "    We designed a divergent two-echelon supply chain that includes a single \n",
        "    factory, multiple distribution warehouses, and multiple product types over \n",
        "    a fixed number of time steps. At each time step, the agent is asked to find \n",
        "    the number of products to be produced and preserved at the factory, as well \n",
        "    as the number of products to be shipped to different distribution \n",
        "    warehouses. To make the supply chain more realistic, we set capacity \n",
        "    constraints on warehouses (and consequently, on how many units to produce \n",
        "    at the factory), along with storage and transportation costs. \n",
        "    \"\"\"\n",
        "\n",
        "    def __init__(self):\n",
        "        # number of product types (e.g., 2 product types)\n",
        "        self.product_types_num = 2\n",
        "        # number of distribution warehouses (e.g., 2 distribution warehouses)\n",
        "        self.distr_warehouses_num = 2\n",
        "        # final time step (e.g., an episode takes 25 time steps)\n",
        "        self.T = 25\n",
        "\n",
        "        # maximum demand value, units (e.g., [3, 6])\n",
        "        self.d_max = np.array(\n",
        "            [3, 6],\n",
        "            np.int32)\n",
        "        # maximum demand variation according to a uniform distribution,\n",
        "        # units (e.g., [2, 1])\n",
        "        self.d_var = np.array(\n",
        "            [2, 1],\n",
        "            np.int32)\n",
        "\n",
        "        # sale prices, per unit (e.g., [20, 10])\n",
        "        self.sale_prices = np.array(\n",
        "            [20, 10],\n",
        "            np.int32)\n",
        "        \n",
        "        # production costs, per unit (e.g., [2, 1])\n",
        "        self.production_costs = np.array(\n",
        "            [2, 1],\n",
        "            np.int32)\n",
        "\n",
        "        # storage capacities for each product type at each warehouse,\n",
        "        # units (e.g., [[3, 4], [6, 8], [9, 12]])\n",
        "        self.storage_capacities = np.array(\n",
        "            [[3, 4], [6, 8], [9, 12]],\n",
        "            np.int32)\n",
        "\n",
        "        # storage costs of each product type at each warehouse,\n",
        "        # per unit (e.g., [[6, 3], [4, 2], [2, 1]])\n",
        "        self.storage_costs = np.array(\n",
        "            [[6, 3], [4, 2], [2, 1]],\n",
        "            np.float32)\n",
        "        # transportation costs of each product type for each distribution\n",
        "        # warehouse, per unit (e.g., [[.1, .3], [.2, .6]])\n",
        "        self.transportation_costs = np.array(\n",
        "            [[.1, .3], [.2, .6]],\n",
        "            np.float32)\n",
        "\n",
        "        # penalty costs, per unit (e.g., [10, 5])\n",
        "        self.penalty_costs = .5*self.sale_prices\n",
        "        \n",
        "        self.reset() # Reset the environment to its initial state at the beginning of a new episode (function defined just below)\n",
        "\n",
        "    def reset(self, demand_history_len=5):\n",
        "        # (five) demand values observed\n",
        "        self.demand_history = collections.deque(maxlen=demand_history_len) # Deque is a data structure that allows for efficient insertion and removal of elements from both ends.\n",
        "\n",
        "        for d in range(demand_history_len):\n",
        "            self.demand_history.append(np.zeros(\n",
        "                (self.distr_warehouses_num, self.product_types_num),\n",
        "                dtype=np.int32))\n",
        "        self.t = 0\n",
        "\n",
        "    def demand(self, j, i, t):\n",
        "        # we simulate a seasonal behavior by representing the demand as a\n",
        "        # co-sinusoidal function with a stochastic component (a random variable\n",
        "        # assumed to be distributed according to a uniform distribution),\n",
        "        # in order to evaluate the agent\n",
        "        # This line calculates the demand for product i at warehouse j and time t\n",
        "        demand = np.round(\n",
        "            self.d_max[i-1]/2 +\n",
        "            self.d_max[i-1]/2*np.cos(4*np.pi*(2*j*i+t)/self.T) +\n",
        "            np.random.randint(0, self.d_var[i-1]+1))\n",
        "        return demand\n",
        "\n",
        "    def initial_state(self):\n",
        "        return State(self.product_types_num, self.distr_warehouses_num,\n",
        "                     self.T, list(self.demand_history))\n",
        "\n",
        "    def step(self, state, action):\n",
        "        # Get the demand of each product for each warehouse\n",
        "        demands = np.fromfunction(\n",
        "            lambda j, i: self.demand(j+1, i+1, self.t),\n",
        "            (self.distr_warehouses_num, self.product_types_num),\n",
        "            dtype=np.int32)\n",
        "        # next state\n",
        "        next_state = State(self.product_types_num, self.distr_warehouses_num,\n",
        "                           self.T, list(self.demand_history))\n",
        "\n",
        "        \"\"\"\n",
        "        This updates the inventory level of the factory by subtracting the products used for production (action.production_level)\n",
        "        and adding the products shipped to the warehouses (action.shipped_stocks).\n",
        "        The resulting inventory level is then capped at the maximum storage capacity of the factory (self.storage_capacities[0]).\n",
        "        \"\"\"\n",
        "        next_state.factory_stocks = np.minimum(\n",
        "            np.subtract(np.add(state.factory_stocks,\n",
        "                               action.production_level),\n",
        "                        np.sum(action.shipped_stocks, axis=0)\n",
        "                        ),\n",
        "            self.storage_capacities[0]\n",
        "        )\n",
        "        \"\"\"\n",
        "        This updates the inventory levels of the distribution warehouses in a similar way to the factory.\n",
        "        For each distribution warehouse j, the inventory level is updated by subtracting the products shipped from the warehouse (action.shipped_stocks[j])\n",
        "        and adding the products received from the factory. The resulting inventory level is then capped at the maximum storage capacity of the warehouse (self.storage_capacities[j+1]).\n",
        "        \"\"\"\n",
        "        for j in range(self.distr_warehouses_num):\n",
        "            next_state.distr_warehouses_stocks[j] = np.minimum(\n",
        "                np.subtract(np.add(state.distr_warehouses_stocks[j],\n",
        "                                   action.shipped_stocks[j]),\n",
        "                            demands[j]\n",
        "                            ),\n",
        "                self.storage_capacities[j+1]\n",
        "            )\n",
        "\n",
        "        # revenues\n",
        "        total_revenues = np.dot(self.sale_prices,\n",
        "                                np.sum(demands, axis=0))\n",
        "        # production costs\n",
        "        total_production_costs = np.dot(self.production_costs,\n",
        "                                        action.production_level)\n",
        "        # transportation costs\n",
        "        total_transportation_costs = np.dot(\n",
        "            self.transportation_costs.flatten(),\n",
        "            action.shipped_stocks.flatten())\n",
        "        # storage costs\n",
        "        total_storage_costs = np.dot(\n",
        "            self.storage_costs.flatten(),\n",
        "            np.maximum(next_state.stock_levels(),\n",
        "                       np.zeros(\n",
        "                           ((self.distr_warehouses_num+1) *\n",
        "                            self.product_types_num),\n",
        "                           dtype=np.int32)\n",
        "                       )\n",
        "        )\n",
        "        # penalty costs (minus sign because stock levels would be already\n",
        "        # negative in case of unfulfilled demand)\n",
        "        total_penalty_costs = -np.dot(\n",
        "            self.penalty_costs,\n",
        "            np.add(\n",
        "                np.sum(\n",
        "                    np.minimum(next_state.distr_warehouses_stocks,\n",
        "                               np.zeros(\n",
        "                                   (self.distr_warehouses_num,\n",
        "                                    self.product_types_num),\n",
        "                                   dtype=np.int32)\n",
        "                               ),\n",
        "                    axis=0),\n",
        "                np.minimum(next_state.factory_stocks,\n",
        "                           np.zeros(\n",
        "                               (self.product_types_num,),\n",
        "                               dtype=np.int32)\n",
        "                           )\n",
        "            )\n",
        "        )\n",
        "        # reward function\n",
        "        reward = total_revenues - total_production_costs - \\\n",
        "            total_transportation_costs - total_storage_costs - \\\n",
        "            total_penalty_costs\n",
        "\n",
        "        # the actual demand for the current time step will not be known until\n",
        "        # the next time step. This implementation choice ensures that the agent\n",
        "        # may benefit from learning the demand pattern so as to integrate a\n",
        "        # sort of demand forecasting directly into the policy\n",
        "        self.demand_history.append(demands)\n",
        "        \n",
        "        # actual time step value is not observed (for now)\n",
        "        self.t += 1\n",
        "\n",
        "        return next_state, reward, self.t == self.T-1"
      ]
    },
    {
      "cell_type": "markdown",
      "source": [
        "# Scratch implementation"
      ],
      "metadata": {
        "id": "IwWvVJk4FAeF"
      }
    },
    {
      "cell_type": "markdown",
      "source": [
        "Description of main elements:\n",
        "\n",
        "__init__ method (initialization of agent)\n",
        "\n",
        "reset method (startin point of the envinment)\n",
        "\n",
        "step method (use so that the ou perform one step inside the environment)\n",
        "\n",
        "observation_space attribute (inventories for each product for each warehouse + factory)\n",
        "\n",
        "action_space attribute (production units of each product and shipping units of each product to each warehouse)\n",
        "\n",
        "sale_prices attribute (sale price fo each product)\n",
        "\n",
        "warehouse_storage_costs attribute (storage cost for each product in each warehouse)\n",
        "\n",
        "manufacturer_storage_costs attribute (storage costs for each product in inventory)\n",
        "\n",
        "manufacturer_storage_cap attribute (maximum storage capacity for each product for the factory)\n",
        "\n",
        "warehouse_storage_capacities attribute (maximum storage capacity for each product for each warehouse)\n",
        "\n",
        "production_costs attribute (production cost for each product)\n",
        "\n",
        "production_capacity attribute (maximum production capacity for each product)\n",
        "\n",
        "shipping_costs attribute (shipping costs for each product to each warehouse)\n",
        "\n",
        "penalty_costs attribute (fleating cost of unsatisfied demand)\n",
        "\n",
        "num_products attribute (number of products)\n",
        "\n",
        "num_distr_warehouses attribute (number of warehouses)\n",
        "\n",
        "truck_capacity attribute (size of deliverable batches for each product)\n",
        "\n",
        "T attribute (terminal step)\n",
        "\n",
        "manufacturer_inventory attribute (inventory in the factory for each product)\n",
        "\n",
        "warehouse_inventories attribute (inventory for each product in each warehouse)\n",
        "\n",
        "demands attribute (demand for that period for each product from each warehouse)"
      ],
      "metadata": {
        "id": "65tLMjchu3PU"
      }
    },
    {
      "cell_type": "code",
      "source": [
        "from numpy.lib.shape_base import column_stack\n",
        "import gym\n",
        "from gym import spaces\n",
        "import numpy as np\n",
        "\n",
        "class SupplyChainEnv(): # before inside was written gym.Env\n",
        "    def __init__(self, sale_prices, warehouse_storage_costs, manufacturer_storage_costs, manufacturer_storage_cap, warehouse_storage_capacities, production_costs, production_capacity, shipping_costs, demand_distribution, truck_capacity, num_products=2, num_distr_warehouses=2):\n",
        "\n",
        "        ''' Define the supply chain parameters'''\n",
        "\n",
        "        self.demand_distribution = demand_distribution\n",
        "        self.sale_prices = sale_prices\n",
        "        self.production_costs = production_costs\n",
        "        self.manufacturer_storage_cap = manufacturer_storage_cap\n",
        "        self.warehouse_storage_cap = warehouse_storage_capacities\n",
        "        self.warehouse_storage_costs = warehouse_storage_costs\n",
        "        self.manufacturer_storage_costs = manufacturer_storage_costs\n",
        "        self.shipping_costs = shipping_costs\n",
        "        self.penalty_costs = 1.5 * self.sale_prices #for unstatisfied demand, 1 for the fleating cost plus 0.5 to account for unsatisfaction of client (may not come back)\n",
        "        self.production_capacity = production_capacity\n",
        "\n",
        "        self.num_products = num_products\n",
        "        self.num_distr_warehouses = num_distr_warehouses\n",
        "        self.truck_capacity = truck_capacity\n",
        "        # final time step (e.g., an episode takes 12 time steps, monthly decisions)\n",
        "        self.T = 12\n",
        "        self.t=0\n",
        "        # Define the state space\n",
        "        '''\n",
        "        This Box space allows each element of the observation to take on any real value between 0 and infinity,\n",
        "        representing the inventory levels of each product at each warehouse and the manufacturer.\n",
        "        When you provide a single value low argument, it is interpreted as the lower limit for all dimensions of the space.\n",
        "        However, when you provide an array-like object for low, the values are treated as the lower limits for each\n",
        "        corresponding dimension of the space. Similarly, the same logic applies for the high argument, which represents the upper limits of the space.\n",
        "        '''\n",
        "        \n",
        "        observation_high = np.concatenate([self.manufacturer_storage_cap, self.warehouse_storage_cap.flatten()])\n",
        "        self.observation_space = spaces.Box(low=np.zeros_like(observation_high), high=observation_high, dtype=np.int32) #lowest inventory level is zero\n",
        "\n",
        "        ''' Define the action space '''\n",
        "        # Production quantities of each product at the manufacturer\n",
        "        manufacturer_production_space = spaces.Box(low=0, high=self.production_capacity, shape=(num_products,), dtype=np.int32)\n",
        "        # Amount of each product that will be sent from the manufacturer to each distribution warehouse, high will be the maximum a truck can carry\n",
        "        warehouse_shipping_space = spaces.Box(low=0, high=np.concatenate([self.truck_capacity,self.truck_capacity]), shape=(num_products * num_distr_warehouses,), dtype=np.int32)\n",
        "\n",
        "        # Over action space\n",
        "        self.action_space = spaces.Tuple((manufacturer_production_space, warehouse_shipping_space))\n",
        "\n",
        "        self.reset() # Reset the environment to its initial state at the beginning of a new episode (function defined just below)\n",
        "\n",
        "    def reset(self):\n",
        "        # Initialize the inventory levels and costs\n",
        "        self.manufacturer_inventory = np.zeros(self.num_products)\n",
        "        self.warehouse_inventories = np.zeros((self.num_distr_warehouses, self.num_products))\n",
        "        \n",
        "        # Generate initial demand for each warehouse\n",
        "        self.generate_demand()\n",
        "        print(self.demands)\n",
        "        # t is current time step\n",
        "        self.t = 0\n",
        "\n",
        "        # Return the initial observation\n",
        "        return self._get_observation()\n",
        "\n",
        "    def step(self, action):\n",
        "\n",
        "        manufacturer_production, warehouse_shipping = action\n",
        "\n",
        "        #-------------UPDATING INVENTORIES------------------------\n",
        "        # Update manufacturer inventory \n",
        "        self.manufacturer_inventory += manufacturer_production - np.sum(warehouse_shipping, axis=0)\n",
        "        \n",
        "        # Update warehouse inventories on shipped inventory '''CONSIDER IF FUTHER FIXING'''\n",
        "        #basically if it chose to produce more products that what can be stored we set inventory to max capacity, so there will be a production cost of these products but not a revenue coming from them\n",
        "        self.warehouse_inventories = np.minimum(self.warehouse_inventories + warehouse_shipping, self.warehouse_storage_cap)\n",
        "        \n",
        "        #-------------CALCULATING REVENUE----------------------------\n",
        "\n",
        "        revenue = np.sum(self.sale_prices * np.sum(np.minimum(self.demands, self.warehouse_inventories))) # taking the minimum to account for the case we do not have enough to satisfy demand\n",
        "        \n",
        "        # Update warehouse inventories (after satisfaction of demand)\n",
        "        self.warehouse_inventories -= self.demands # this will result in negative values for unsatisfied demand\n",
        "\n",
        "        #-------------CALCULATING COSTS------------------------------\n",
        "\n",
        "        # Calculate production costs\n",
        "        production_costs = np.sum(manufacturer_production * self.production_costs)\n",
        "\n",
        "        # Calculate shipping costs\n",
        "        shipping_costs = np.sum(np.stack([self.truck_capacity,self.truck_capacity]) * self.shipping_costs)\n",
        "        \n",
        "        # Calculate penalty costs for unsatisfied demand\n",
        "        unsatisfied_demand = np.minimum(self.warehouse_inventories, 0)\n",
        "        penalty_costs = -np.sum(np.sum(unsatisfied_demand, axis=0) * self.penalty_costs) # minus sign because stock levels would be already negative in case of unfulfilled demand\n",
        "\n",
        "        # Update warehouse inventories so that they do not have minus\n",
        "        self.warehouse_inventories = np.maximum(self.warehouse_inventories, 0)\n",
        "\n",
        "        # Calculate storage costs associated with the warehouse inventories, storage costs are for the inventory not yet sold\n",
        "        warehouse_storage_costs = np.sum(self.warehouse_storage_costs * self.warehouse_inventories)        \n",
        "        manufacturer_storage_costs = np.sum(self.manufacturer_storage_costs * self.manufacturer_inventory)     \n",
        "        # Calculate total cost\n",
        "        total_cost = shipping_costs + warehouse_storage_costs + manufacturer_storage_costs + production_costs + penalty_costs\n",
        "        #print('The total cost is',total_cost)\n",
        "        #-------------------CALCULATING GROSS REVENUE = reward----------------------\n",
        "        reward = revenue - total_cost\n",
        "\n",
        "        self.t += 1\n",
        "        # Generate new demand for each warehouse\n",
        "        self.generate_demand()\n",
        "        print(self.demands)\n",
        "        # Return the new observation, reward, done flag, and info dictionary\n",
        "        observation = self._get_observation()\n",
        "        done = False\n",
        "        info = {}\n",
        "        \n",
        "        return observation, reward, done, info\n",
        "\n",
        "    def generate_demand(self):\n",
        "        self.demands = np.zeros((self.num_distr_warehouses, self.num_products))\n",
        "        for prod in range(self.num_products):\n",
        "          for ware in range(self.num_distr_warehouses):\n",
        "            demand_dist = self.demand_distribution[prod][ware][self.t]\n",
        "            self.demands[prod][ware] = np.random.choice(demand_dist)\n",
        "\n",
        "    def _get_observation(self):\n",
        "        # Concatenate the manufacturer inventory and warehouse inventories\n",
        "        inventories = np.concatenate([self.manufacturer_inventory, self.warehouse_inventories.flatten()]) #.flatten returns a copy on an array collapsed into one dimension\n",
        "        \n",
        "        # Concatenate the inventories with the demands\n",
        "        observation = np.concatenate([inventories, self.demands.flatten()])\n",
        "        \n",
        "        return observation \n",
        "        '''\n",
        "        so returned value is a numpy array with:\n",
        "        1st row : manufacturer_inventory (size : num_products)\n",
        "        2nd row : warehouse_inventories (size : num_products * num_warehouses)\n",
        "        3rd row : demands (size : num_products * num_warehouses)\n",
        "        '''"
      ],
      "metadata": {
        "id": "NMr9rpFIE_ov",
        "colab": {
          "base_uri": "https://localhost:8080/"
        },
        "outputId": "d21021e1-8ec3-4c92-e199-b73db7c0f097"
      },
      "execution_count": null,
      "outputs": [
        {
          "output_type": "stream",
          "name": "stderr",
          "text": [
            "/usr/local/lib/python3.9/dist-packages/ipykernel/ipkernel.py:283: DeprecationWarning: `should_run_async` will not call `transform_cell` automatically in the future. Please pass the result to `transformed_cell` argument and any exception that happen during thetransform in `preprocessing_exc_tuple` in IPython 7.17 and above.\n",
            "  and should_run_async(code)\n"
          ]
        }
      ]
    },
    {
      "cell_type": "markdown",
      "source": [
        "# IDEA\n",
        "\n",
        "we can create 2 implementations, the second one not having the demand upfront so that we can add a forecasting element and compare performances"
      ],
      "metadata": {
        "id": "Zvd9dsVqJDUq"
      }
    },
    {
      "cell_type": "markdown",
      "source": [
        "Let's create a scenario to check if things work"
      ],
      "metadata": {
        "id": "pxGC1yNqyIKz"
      }
    },
    {
      "cell_type": "code",
      "source": [
        "sale_prices = np.array([20,10])\n",
        "warehouse_storage_costs = np.array([[5,10],[7,12]])\n",
        "manufacturer_storage_costs = np.array([5,10])\n",
        "manufacturer_storage_cap = np.array([200,250])\n",
        "warehouse_storage_capacities = np.array([[200,250],[400,500]])\n",
        "production_costs = np.array([10,5])\n",
        "production_capacity = np.array([700,500])\n",
        "shipping_costs = np.array([[10,12],[9,11]])\n",
        "truck_capacity = np.array([100,100])\n",
        "demand_distribution = [[[[1,1],[2,2],[3,3],[4,4],[5,5],[6,6],[7,7],[8,8],[9,9],[10,10],[11,11],[12,12]],[[1,1],[2,2],[3,3],[4,4],[5,5],[6,6],[7,7],[8,8],[9,9],[10,10],[11,11],[12,12]]],\\\n",
        "                       [[[1,1],[2,2],[3,3],[4,4],[5,5],[6,6],[7,7],[8,8],[9,9],[10,10],[11,11],[12,12]],[[1,1],[2,2],[3,3],[4,4],[5,5],[6,6],[7,7],[8,8],[9,9],[10,10],[11,11],[12,12]]]]\n",
        "num_products = 2\n",
        "num_distr_warehouses = 2\n",
        "\n",
        "env = SupplyChainEnv(sale_prices, warehouse_storage_costs, manufacturer_storage_costs, manufacturer_storage_cap, warehouse_storage_capacities, production_costs, production_capacity, shipping_costs, demand_distribution, truck_capacity, num_products=2, num_distr_warehouses=2)"
      ],
      "metadata": {
        "id": "i5ERaje8X-cp",
        "colab": {
          "base_uri": "https://localhost:8080/"
        },
        "outputId": "b21d3a92-a38e-4efc-e241-8573d06eafcc"
      },
      "execution_count": null,
      "outputs": [
        {
          "output_type": "stream",
          "name": "stdout",
          "text": [
            "[[1. 1.]\n",
            " [1. 1.]]\n"
          ]
        }
      ]
    },
    {
      "cell_type": "code",
      "source": [
        "env.action_space"
      ],
      "metadata": {
        "colab": {
          "base_uri": "https://localhost:8080/"
        },
        "id": "yiH5be0aziXr",
        "outputId": "e70b6c7d-8fe4-4eb2-ae8a-7eb493492bc0"
      },
      "execution_count": null,
      "outputs": [
        {
          "output_type": "execute_result",
          "data": {
            "text/plain": [
              "Tuple(Box(0, [700 500], (2,), int32), Box(0, 100, (4,), int32))"
            ]
          },
          "metadata": {},
          "execution_count": 22
        }
      ]
    },
    {
      "cell_type": "code",
      "source": [
        "env.observation_space"
      ],
      "metadata": {
        "colab": {
          "base_uri": "https://localhost:8080/"
        },
        "id": "0H882svB116V",
        "outputId": "4e7b4ae3-3408-4bcf-f904-d0cc6630281f"
      },
      "execution_count": null,
      "outputs": [
        {
          "output_type": "execute_result",
          "data": {
            "text/plain": [
              "Box(0, [200 250 200 250 400 500], (6,), int32)"
            ]
          },
          "metadata": {},
          "execution_count": 23
        }
      ]
    },
    {
      "cell_type": "code",
      "source": [
        "observation = env.reset()\n",
        "print(observation)"
      ],
      "metadata": {
        "colab": {
          "base_uri": "https://localhost:8080/"
        },
        "id": "Ks63So6319IY",
        "outputId": "21d6b03d-2681-4636-8558-9915aa3db499"
      },
      "execution_count": null,
      "outputs": [
        {
          "output_type": "stream",
          "name": "stdout",
          "text": [
            "[[1. 1.]\n",
            " [1. 1.]]\n",
            "[0. 0. 0. 0. 0. 0. 1. 1. 1. 1.]\n"
          ]
        }
      ]
    },
    {
      "cell_type": "code",
      "source": [
        "action = (np.array([100, 100]), np.array([[10, 20], [30, 40]]))\n",
        "next_observation, reward, done, info = env.step(action)\n",
        "print(next_observation)\n",
        "print(reward)"
      ],
      "metadata": {
        "colab": {
          "base_uri": "https://localhost:8080/"
        },
        "id": "qsR0DZcS2IYe",
        "outputId": "bcaf0c37-053d-46d8-f46a-ff1ab3aef399"
      },
      "execution_count": null,
      "outputs": [
        {
          "output_type": "stream",
          "name": "stdout",
          "text": [
            "[[2. 2.]\n",
            " [2. 2.]]\n",
            "[60. 40.  9. 19. 29. 39.  2.  2.  2.  2.]\n",
            "-7186.0\n"
          ]
        }
      ]
    },
    {
      "cell_type": "code",
      "source": [],
      "metadata": {
        "id": "bM7s4CP3XdVJ"
      },
      "execution_count": null,
      "outputs": []
    }
  ]
}